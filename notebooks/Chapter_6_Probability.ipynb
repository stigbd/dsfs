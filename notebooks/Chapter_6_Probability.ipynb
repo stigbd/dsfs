{
 "cells": [
  {
   "cell_type": "markdown",
   "metadata": {},
   "source": [
    "# Definitions\n",
    "## Probability\n",
    "We think of ___probability___ as a way of quantifiying the uncertainty associated with _events_ chosen from some _universe_ of events.\n",
    "\n",
    "Notationally, we write \\begin{equation*}P(E)\\end{equation*}to mean \"the probability of the event E\"\n",
    "## Dependence and Independence\n",
    "Two events _E_ and _F_ are ___dependent___ if knowing somehting about whether _E_ happens gives us information obout whether _F_ happens (and vice versa). Otherwise, they are ___independent___.\n",
    "We say that two events _E_ and _F_ are independent if the probability that they both happen is the product of the probabilities that each one happens:\n",
    "\\begin{equation*}P(E,F) = P(E)P(F)\\end{equation*}\n",
    "## Conditional probability\n",
    "If two events _E_ and _F_ not necessarily independent (and if the probability of _F_ is not zero), then we define the probability of _E_ \"conditional on _F_\" as:\n",
    "\\begin{equation*}P(E|F) = P(E,F)/P(F)\\end{equation*}\n",
    "We can rewrite this as\n",
    "\\begin{equation*}P(E,F) = P(E|F)P(F)\\end{equation*}\n",
    "When _E_ and _F_ are idenpendent, we have\n",
    "\\begin{equation*}P(E|F) = P(E,F)/P(F) = P(E)P(F)/P(F) = P(E) \\end{equation*}"
   ]
  },
  {
   "cell_type": "markdown",
   "metadata": {},
   "source": [
    "## Example: Family wit two (unknown) children\n",
    "Assum that:\n",
    "- Each child is equaly likely to be a boy or a girl\n",
    "- the gender of the second child is independent of the gender of the first child\n",
    "\n",
    "Events:\n",
    "- N: no girls\n",
    "- G: one girl, one boy\n",
    "- B: two girls\n",
    "\n",
    "Then\n",
    "- _P_(N) = 1/4\n",
    "- _P_(G) = 1/2\n",
    "- _P_(B) = 1/4\n",
    "\n",
    "### Problem\n",
    "_P_(\"both children are girls\"(B)|\"the older child is a girl\"(G))\n",
    "\n",
    "Solution:  \n",
    "_P_(B|G) = _P_(B,G)/_P_(G) = _P_(B)/_P_(G) = (1/4)/(1/2) = 1/2,  \n",
    "since \"both children are girls\"(B)|\"the older child is a girl\" is just the event B \n",
    "\n",
    "### Problem\n",
    "_P_(\"both children are girls\"(B)|\"at least one of the children is a girl\"(L))\n",
    "\n",
    "Solution:  \n",
    "_P_(L) = _P_(O) + _P_(B) = 1/2 + 1/4 = 3/4  \n",
    "_P_(B|L) = _P_(B,L)/_P_(L) = _P_(B)/_P_(L) = (1/4) / (3/4) = 1/3 "
   ]
  },
  {
   "cell_type": "markdown",
   "metadata": {},
   "source": [
    "## A check by generating a lot of families"
   ]
  },
  {
   "cell_type": "code",
   "execution_count": 13,
   "metadata": {},
   "outputs": [
    {
     "name": "stdout",
     "output_type": "stream",
     "text": [
      "P(both): 0.2472\n",
      "P(older): 0.4937\n",
      "P(either): 0.7464\n",
      "P(both | older): 0.5007089325501317\n",
      "P(both | either): 0.3311897106109325\n"
     ]
    }
   ],
   "source": [
    "import enum, random\n",
    "\n",
    "class Kid(enum.Enum):\n",
    "    BOY = 0\n",
    "    GIRL = 1\n",
    "\n",
    "def random_kid() -> Kid:\n",
    "    return random.choice([Kid.BOY, Kid.GIRL])\n",
    "\n",
    "both_girls = 0\n",
    "older_girl = 0\n",
    "either_girl = 0\n",
    "\n",
    "random.seed(0)\n",
    "\n",
    "n = 10000\n",
    "\n",
    "for _ in range(n):\n",
    "    younger = random_kid()\n",
    "    older = random_kid()\n",
    "    if older == Kid.GIRL:\n",
    "        older_girl += 1\n",
    "    if older == Kid.GIRL and younger == Kid.GIRL:\n",
    "        both_girls += 1\n",
    "    if older == Kid.GIRL or younger == Kid.GIRL:\n",
    "        either_girl +=1\n",
    "\n",
    "print(\"P(both):\", both_girls / n)\n",
    "print(\"P(older):\", older_girl / n)\n",
    "print(\"P(either):\", either_girl / n)\n",
    "print(\"P(both | older):\", both_girls / older_girl)\n",
    "print(\"P(both | either):\", both_girls / either_girl)"
   ]
  }
 ],
 "metadata": {
  "kernelspec": {
   "display_name": "Python 3",
   "language": "python",
   "name": "python3"
  },
  "language_info": {
   "codemirror_mode": {
    "name": "ipython",
    "version": 3
   },
   "file_extension": ".py",
   "mimetype": "text/x-python",
   "name": "python",
   "nbconvert_exporter": "python",
   "pygments_lexer": "ipython3",
   "version": "3.8.1"
  }
 },
 "nbformat": 4,
 "nbformat_minor": 4
}
